{
 "cells": [
  {
   "cell_type": "code",
   "execution_count": null,
   "metadata": {},
   "outputs": [],
   "source": [
    "using GuSTO"
   ]
  },
  {
   "cell_type": "code",
   "execution_count": null,
   "metadata": {},
   "outputs": [],
   "source": [
    "robot = Plane()\n",
    "model = Airplane(robot)\n",
    "env = Forest();"
   ]
  },
  {
   "cell_type": "code",
   "execution_count": null,
   "metadata": {},
   "outputs": [],
   "source": [
    "using MAT\n",
    "vars = matread(joinpath(Pkg.dir(\"GuSTO\"), \"src\", \"dynamics\", \"init_straight_line_sos.mat\"))\n",
    "Xfull,Ufull,Tsfull = vars[\"X\"], vars[\"U\"], vars[\"t_ref\"];"
   ]
  },
  {
   "cell_type": "code",
   "execution_count": null,
   "metadata": {},
   "outputs": [],
   "source": [
    "N = 41\n",
    "x_init = [1,1,5,0,robot.v_hat,0,0,robot.alpha_0]\n",
    "goal_box = [110 110 5; 120 120 28]; mp = 0.5*(goal_box[1,:]+goal_box[2,:])\n",
    "x_goal = [mp[1],mp[2],mp[3],0,robot.v_hat,0,0,robot.alpha_0]\n",
    "tf_guess = Tsfull[end] # 32.3\n",
    "\n",
    "full_idx = [round(Int,i) for i in collect(range(1, stop=length(Tsfull), length=N))];"
   ]
  },
  {
   "cell_type": "code",
   "execution_count": null,
   "metadata": {},
   "outputs": [],
   "source": [
    "# init_traj_straightline\n",
    "X0 = repmat(x_init, 1, N)\n",
    "for k in 1:3\n",
    "    X0[k,:] = collect(range(x_init[k], stop=x_goal[k], length=N))\n",
    "end\n",
    "\n",
    "# init_traj_line_sos\n",
    "vars = matread(joinpath(Pkg.dir(\"GuSTO\"), \"src\", \"dynamics\", \"init_straight_line_sos.mat\"))\n",
    "X0 = vars[\"X\"]\n",
    "U0 = vars[\"U\"]\n",
    "Nidx = size(X0,2)\n",
    "idx = [round(Int,i) for i in collect(range(1, stop=Nidx, length=N))]\n",
    "X0 = X0[:,idx]\n",
    "U0 = U0[:,idx[1:end-1]]\n",
    "x_goal = X0[:,end]\n",
    "\n",
    "# init_traj_feasible_sos\n",
    "vars = matread(joinpath(Pkg.dir(\"GuSTO\"), \"src\", \"dynamics\", \"init_feasible_sos.mat\"))\n",
    "X0 = vars[\"X\"]\n",
    "U0 = vars[\"U\"]\n",
    "Nidx = size(X0,2)\n",
    "idx = [round(Int,i) for i in collect(range(1, stop=Nidx, length=N))]\n",
    "X0 = X0[:,idx]\n",
    "U0 = U0[:,idx[1:end-1]]\n",
    "x_goal = X0[:,end];\n",
    "\n",
    "PD = ProblemDefinition(robot, model, env, x_init, x_goal);"
   ]
  },
  {
   "cell_type": "code",
   "execution_count": null,
   "metadata": {},
   "outputs": [],
   "source": [
    "TOPgusto = TrajectoryOptimizationProblem(PD, N, tf_guess, fixed_final_time=true)\n",
    "TOSgusto = TrajectoryOptimizationSolution(TOPgusto)\n",
    "solve_SCP!(TOSgusto, TOPgusto, solve_gusto_jump!, init_traj_feasible_sos, \"Gurobi\", OutputFlag=0);"
   ]
  },
  {
   "cell_type": "code",
   "execution_count": null,
   "metadata": {
    "scrolled": true
   },
   "outputs": [],
   "source": [
    "@show TOSgusto.SCPS.converged\n",
    "@show TOSgusto.SCPS.iterations\n",
    "@show TOSgusto.SCPS.total_time\n",
    "@show TOSgusto.SCPS.accept_solution\n",
    "@show TOSgusto.SCPS.prob_status\n",
    "@show TOSgusto.SCPS.convergence_measure\n",
    "@show TOSgusto.SCPS.param.alg.omega_vec\n",
    "@show TOSgusto.SCPS.param.alg.Delta_vec\n",
    ";"
   ]
  },
  {
   "cell_type": "code",
   "execution_count": null,
   "metadata": {},
   "outputs": [],
   "source": []
  }
 ],
 "metadata": {
  "kernelspec": {
   "display_name": "Julia 0.7.0",
   "language": "julia",
   "name": "julia-0.7"
  },
  "language_info": {
   "file_extension": ".jl",
   "mimetype": "application/julia",
   "name": "julia",
   "version": "0.7.0"
  }
 },
 "nbformat": 4,
 "nbformat_minor": 2
}
