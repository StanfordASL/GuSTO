{
 "cells": [
  {
   "cell_type": "code",
   "execution_count": 8,
   "metadata": {},
   "outputs": [],
   "source": [
    "# using GuSTO\n",
    "include(\"../src/GuSTO.jl\")\n",
    "using AstrobeeRobot"
   ]
  },
  {
   "cell_type": "code",
   "execution_count": 2,
   "metadata": {},
   "outputs": [
    {
     "data": {
      "text/plain": [
       "FreeflyerSE2(6, 3, 0.05, Any[], Any[], Any[])"
      ]
     },
     "execution_count": 2,
     "metadata": {},
     "output_type": "execute_result"
    }
   ],
   "source": [
    "robot = Freeflyer()\n",
    "model = FreeflyerSE2()"
   ]
  },
  {
   "cell_type": "code",
   "execution_count": null,
   "metadata": {},
   "outputs": [],
   "source": [
    "env = Table(:stanford);\n",
    "centers = Vector()\n",
    "push!(centers, [0.460; 0.315; 0.0])\n",
    "push!(centers, [0.201; 1.085; 0.0])\n",
    "push!(centers, [0.540; 2.020; 0.0])\n",
    "push!(centers, [1.374; 0.196; 0.0])\n",
    "push!(centers, [1.063; 1.354; 0.0])\n",
    "push!(centers, [1.365; 2.322; 0.0])\n",
    "push!(centers, [2.221; 0.548; 0.0])\n",
    "push!(centers, [2.077; 1.443; 0.0])\n",
    "push!(centers, [3.098; 1.186; 0.0])\n",
    "push!(centers, [2.837; 2.064; 0.0])\n",
    "\n",
    "widths = [0.27; 0.27; 0.127]\n",
    "inflation = 0.05*ones(3)\n",
    "\n",
    "for idx in 1:length(centers)\n",
    "    push!(env.obstacle_set, HyperRectangle(Vec3f0(centers[idx]-0.5*widths-inflation+[0.;0.;0.5*widths[1]]), Vec3f0(widths+2*inflation)))\n",
    "end\n",
    "\n",
    "N = 200\n",
    "tf_guess = 200.\n",
    "x_init = [0.2; 2.4; 0; 0; 0; 0]\n",
    "goal_set = GoalSet()\n",
    "x_goal = [3.; 0.5; 0; 0.05; -0.05; 0]\n",
    "add_goal!(goal_set, Goal(PointGoal(x_goal), tf_guess, model))\n",
    "\n",
    "PD = ProblemDefinition(robot, model, env, x_init, goal_set)\n",
    "\n",
    "TOP = TrajectoryOptimizationProblem(PD, N, tf_guess, fixed_final_time=true)\n",
    "TOSgusto = TrajectoryOptimizationSolution(TOP)\n",
    "\n",
    "SCPS = solve_SCP!(TOSgusto, TOP, solve_gusto_jump!, init_traj_straightline, \"Gurobi\", OutputFlag=0);\n",
    "# SCPS = solve_SCP!(TOSgusto, TOP, solve_gusto_jump!, init_traj_straightline, \"Ipopt\", print_level=0);\n",
    "# SCPS = solve_SCP!(TOSgusto, TOP, solve_gusto_jump!, init_traj_straightline, \"Mosek\");"
   ]
  },
  {
   "cell_type": "code",
   "execution_count": 4,
   "metadata": {},
   "outputs": [
    {
     "name": "stdout",
     "output_type": "stream",
     "text": [
      "(TOSgusto.SCPS).converged = true\n",
      "(TOSgusto.SCPS).iterations = 28\n",
      "(TOSgusto.SCPS).total_time = 23.845841663999998\n",
      "(TOSgusto.SCPS).accept_solution = Bool[true, true, true, true, true, true, true, false, false, false, true, true, true, false, false, false, false, false, false, false, true, true, true, true, true, true, true, true, true]\n",
      "(TOSgusto.SCPS).solver_status = Union{TerminationStatusCode, Symbol}[:NA, OPTIMAL, OPTIMAL, OPTIMAL, OPTIMAL, OPTIMAL, OPTIMAL, OPTIMAL, OPTIMAL, OPTIMAL, OPTIMAL, OPTIMAL, OPTIMAL, OPTIMAL, OPTIMAL, OPTIMAL, OPTIMAL, OPTIMAL, OPTIMAL, OPTIMAL, OPTIMAL, OPTIMAL, OPTIMAL, OPTIMAL, OPTIMAL, OPTIMAL, OPTIMAL, OPTIMAL, OPTIMAL]\n",
      "(TOSgusto.SCPS).scp_status = Symbol[:NA, :OK, :OK, :OK, :OK, :OK, :OK, :InaccurateModel, :InaccurateModel, :InaccurateModel, :OK, :OK, :OK, :InaccurateModel, :InaccurateModel, :InaccurateModel, :InaccurateModel, :InaccurateModel, :InaccurateModel, :InaccurateModel, :ViolatesConstraints, :OK, :ViolatesConstraints, :OK, :OK, :OK, :OK, :OK, :OK]\n",
      "(TOSgusto.SCPS).convergence_measure = [0.0, 0.140958, 0.0771133, 0.0749378, 0.0593635, 0.0354587, 0.0181484, 0.0115899, 0.0116291, 0.0115322, 0.011723, 0.00745733, 0.0121744, 0.00745798, 0.00745974, 0.00745665, 0.00745854, 0.00744797, 0.00747751, 0.00746389, 0.0503231, 0.0405726, 0.0318271, 0.0198506, 0.0201292, 0.0148137, 0.00949141, 0.0037999, 0.00379924]\n",
      "(((TOSgusto.SCPS).param).alg).ω_vec = [1.0, 1.0, 1.0, 1.0, 1.0, 1.0, 1.0, 1.0, 1.0, 1.0, 1.0, 1.0, 1.0, 1.0, 1.0, 1.0, 1.0, 1.0, 1.0, 1.0, 10.0, 10.0, 100.0, 100.0, 100.0, 100.0, 100.0, 100.0, 100.0]\n",
      "(((TOSgusto.SCPS).param).alg).Δ_vec = [3.0, 3.0, 3.0, 3.0, 3.0, 3.0, 3.0, 1.5, 0.75, 0.375, 0.75, 1.5, 3.0, 1.5, 0.75, 0.375, 0.1875, 0.09375, 0.046875, 0.0234375, 0.046875, 0.09375, 0.1875, 0.375, 0.75, 1.5, 3.0, 3.0, 3.0]\n",
      "(TOSgusto.SCPS).J_true = Any[0.0, 0.152419, 0.0865004, 0.0744733, 0.0664654, 0.0638019, 0.0619878, 0.0619878, 0.0619878, 0.0619878, 0.0604713, 0.0592238, 0.0583014, 0.0583014, 0.0583014, 0.0583014, 0.0583014, 0.0583014, 0.0583014, 0.0583014, 0.0496451, 0.179539, 0.0644078, 0.128646, 0.11305, 0.112113, 0.111894, 0.111695, 0.111656]\n",
      "(TOSgusto.SCPS).dual = [NaN, NaN, NaN, NaN, NaN, NaN]\n"
     ]
    }
   ],
   "source": [
    "@show TOSgusto.SCPS.converged\n",
    "@show TOSgusto.SCPS.iterations\n",
    "@show TOSgusto.SCPS.total_time\n",
    "@show TOSgusto.SCPS.accept_solution\n",
    "@show TOSgusto.SCPS.solver_status\n",
    "@show TOSgusto.SCPS.scp_status\n",
    "@show TOSgusto.SCPS.convergence_measure\n",
    "@show TOSgusto.SCPS.param.alg.ω_vec\n",
    "@show TOSgusto.SCPS.param.alg.Δ_vec\n",
    "@show TOSgusto.SCPS.J_true\n",
    "@show TOSgusto.SCPS.dual\n",
    ";"
   ]
  },
  {
   "cell_type": "code",
   "execution_count": 5,
   "metadata": {},
   "outputs": [
    {
     "data": {
      "image/png": "[encoded data removed]"
     },
     "execution_count": 5,
     "metadata": {},
     "output_type": "execute_result"
    }
   ],
   "source": [
    "using Plots\n",
    "gr(fmt=:png)\n",
    "plot()\n",
    "plot!([collect(1:N)],[sqrt.(TOSgusto.SCPS.traj.X[4,:].^2 + TOSgusto.SCPS.traj.X[5,:].^2)],\n",
    "    xlabel = \"t\",\n",
    "    ylabel = \"v\",\n",
    "    legend = :none)\n",
    "plot!()"
   ]
  },
  {
   "cell_type": "markdown",
   "metadata": {},
   "source": [
    "### Output trajectory file"
   ]
  },
  {
   "cell_type": "code",
   "execution_count": 6,
   "metadata": {},
   "outputs": [],
   "source": [
    "using HDF5\n",
    "\n",
    "h5open(\"predefined_trajectory_example.h5\", \"w\") do file\n",
    "    traj = g_create(file, \"traj\")\n",
    "    traj[\"x_traj\"] = TOSgusto.traj.X\n",
    "    traj[\"u_traj\"] = TOSgusto.traj.U\n",
    "    traj[\"t_traj\"] = collect(0:TOSgusto.traj.dt:TOSgusto.traj.Tf)\n",
    "    \n",
    "    # Indexing verification information (zero-indexed)\n",
    "    ind_x = g_create(file, \"ind_x\")\n",
    "    ind_x[\"x\"] = 0\n",
    "    ind_x[\"y\"] = 1\n",
    "    ind_x[\"theta\"] = 2\n",
    "    ind_x[\"vx\"] = 3\n",
    "    ind_x[\"vy\"] = 4\n",
    "    ind_x[\"omega\"] = 5\n",
    "    ind_u = g_create(file, \"ind_u\")\n",
    "    ind_u[\"Fx\"] = 0\n",
    "    ind_u[\"Fy\"] = 1\n",
    "    ind_u[\"M\"] = 2\n",
    "end\n",
    ";"
   ]
  },
  {
   "cell_type": "markdown",
   "metadata": {},
   "source": [
    "### Animate free-flyer trajectory"
   ]
  },
  {
   "cell_type": "code",
   "execution_count": null,
   "metadata": {},
   "outputs": [],
   "source": [
    "vis = Visualizer()\n",
    "delete!(vis)\n",
    "\n",
    "vis[:goal]\n",
    "setobject!(vis[:goal][:goal], \n",
    "    Object(HyperSphere(Point3(x_goal[1:2]..., robot.r), 0.1),\n",
    "        MeshBasicMaterial(color=RGBA(0,1.0,0.,0.3))))\n",
    "\n",
    "vis[:table]\n",
    "table_dim = env.worldAABBmax-env.worldAABBmin\n",
    "setobject!(vis[:table][:table], \n",
    "        Object(HyperRectangle(env.worldAABBmin..., table_dim...),\n",
    "            MeshBasicMaterial(color=RGBA(0,1.0,0.,0.3))))\n",
    "\n",
    "vis[:obstacles]\n",
    "for (idx,obs) in enumerate(env.obstacle_set)\n",
    "    setobject!(vis[:obstacles][Symbol(string(\"obs\",idx))], \n",
    "        Object(obs,MeshBasicMaterial(color=RGBA(1.0,0.,0.,0.3))))\n",
    "end\n",
    "\n",
    "vis[:robot]\n",
    "\n",
    "setobject!(vis[:robot][:base],\n",
    "    Object(Cylinder(Point3f0(0,0,0.),Point3f0(0.,0.,0.5),Float32(robot.r)),MeshBasicMaterial(color=RGBA(0,0.,1.,0.7))))\n",
    "\n",
    "up = [0;0;1.]\n",
    "q0 = vec2quat(up,x_init[3])\n",
    "Qs = Vector{Vector{Float64}}()\n",
    "\n",
    "speed_factor = 10\n",
    "\n",
    "for k in 1:speed_factor:N\n",
    "    q = [quat_inv(quat_multiply(mrp2quat([0.; 0.; tan(TOSgusto.SCPS.traj.X[3,k]/4)]), q0)); [TOSgusto.SCPS.traj.X[1:2,k]; robot.r]]\n",
    "    push!(Qs,q)\n",
    "end\n",
    "\n",
    "anim = MeshCat.Animation()\n",
    "for k in 1:N\n",
    "    atframe(anim, vis, 5*k) do frame\n",
    "        settransform!(frame[:robot], Translation(TOSgusto.traj.X[1,k], \n",
    "            TOSgusto.traj.X[2,k], TOSgusto.traj.X[3,k]))\n",
    "    end\n",
    "end\n",
    "setanimation!(vis, anim)\n",
    "    \n",
    "# plot_in_cell = true\n",
    "plot_in_cell = false\n",
    "plot_in_cell ? IJuliaCell(vis) : open(vis)"
   ]
  },
  {
   "cell_type": "code",
   "execution_count": null,
   "metadata": {},
   "outputs": [],
   "source": []
  }
 ],
 "metadata": {
  "kernelspec": {
   "display_name": "Julia 1.1.0",
   "language": "julia",
   "name": "julia-1.1"
  },
  "language_info": {
   "file_extension": ".jl",
   "mimetype": "application/julia",
   "name": "julia",
   "version": "1.1.0"
  }
 },
 "nbformat": 4,
 "nbformat_minor": 2
}
